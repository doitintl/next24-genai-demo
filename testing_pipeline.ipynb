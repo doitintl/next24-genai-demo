{
 "cells": [
  {
   "cell_type": "code",
   "execution_count": 64,
   "id": "bf94aa0b-146b-40c3-8c0e-5cd85a6ba658",
   "metadata": {
    "tags": []
   },
   "outputs": [],
   "source": [
    "from google.cloud import aiplatform\n",
    "from google.cloud import storage\n",
    "import json\n",
    "import requests\n",
    "\n",
    "# Initialize the client with your project and location\n",
    "project = 'eduardom-playground'\n",
    "location = 'us-central1'\n",
    "pipeline_client = aiplatform.gapic.PipelineServiceClient(client_options={\"api_endpoint\": f\"{location}-aiplatform.googleapis.com\"})\n",
    "gcs_client = storage.Client()\n",
    "bucket_name = 'rag-demo-bucket-oiajc'\n",
    "flask_app_url = 'http://34.41.37.220:5000'\n"
   ]
  },
  {
   "cell_type": "code",
   "execution_count": 65,
   "id": "32ca5b07-d6e0-4e95-984a-ac5ec908e6e5",
   "metadata": {
    "tags": []
   },
   "outputs": [],
   "source": [
    "from kfp import dsl, compiler\n",
    "from kfp.dsl import component\n",
    "from typing import NamedTuple\n",
    "\n",
    "\n",
    "@component(packages_to_install=[\"google-cloud-storage\"])\n",
    "def read_tasks_from_gcs(bucket_name: str, file_path: str) -> str:\n",
    "    from google.cloud import storage\n",
    "    \n",
    "    gcs_client = storage.Client()\n",
    "    bucket = gcs_client.get_bucket(bucket_name)\n",
    "    blob = bucket.blob(file_path)\n",
    "    tasks_json = blob.download_as_text()\n",
    "    return tasks_json\n",
    "\n",
    "@component(packages_to_install=[\"requests\"])\n",
    "def evaluate_tasks(flask_app_url: str, tasks_json: str) -> list:\n",
    "    import json\n",
    "    import requests\n",
    "    \n",
    "    tasks = json.loads(tasks_json)\n",
    "    results = []\n",
    "    for task in tasks['prompts']:\n",
    "        response = requests.post(f\"{flask_app_url}/\", json={\"query\": task})\n",
    "        results.append(response.text)\n",
    "    return results\n",
    "\n",
    "@component(packages_to_install=[\"google-cloud-storage\"])\n",
    "def write_results_to_gcs(bucket_name: str, results_json: list, output_file_path: str) -> str:\n",
    "    from google.cloud import storage\n",
    "    \n",
    "    gcs_client = storage.Client()\n",
    "    bucket = gcs_client.get_bucket(bucket_name)\n",
    "    blob = bucket.blob(output_file_path)\n",
    "    result_test = \"=========Email==========\\n\".join(results_json)\n",
    "    blob.upload_from_string(result_test, content_type='application/json')\n",
    "    return f\"Results stored in: gs://{bucket_name}/{output_file_path}\"\n",
    "\n",
    "@dsl.pipeline(\n",
    "    name='rag-evaluation-pipeline',\n",
    "    description='A pipeline that evaluates tasks using a RAG system through a Flask app.'\n",
    ")\n",
    "def rag_evaluation_pipeline(\n",
    "    bucket_name: str,\n",
    "    input_file_path: str,\n",
    "    output_file_path: str\n",
    "):\n",
    "    tasks_json = read_tasks_from_gcs(bucket_name=bucket_name, file_path=input_file_path)\n",
    "    results_json = evaluate_tasks(flask_app_url=flask_app_url, tasks_json=tasks_json.output)\n",
    "    result_write = write_results_to_gcs(bucket_name=bucket_name, results_json=results_json.output, output_file_path=output_file_path)\n"
   ]
  },
  {
   "cell_type": "code",
   "execution_count": 66,
   "id": "67922692-d501-47c0-94bc-3698a92693df",
   "metadata": {},
   "outputs": [
    {
     "name": "stdout",
     "output_type": "stream",
     "text": [
      "Creating PipelineJob\n",
      "PipelineJob created. Resource name: projects/170650767387/locations/us-central1/pipelineJobs/rag-evaluation-pipeline-20240403045207\n",
      "To use this PipelineJob in another session:\n",
      "pipeline_job = aiplatform.PipelineJob.get('projects/170650767387/locations/us-central1/pipelineJobs/rag-evaluation-pipeline-20240403045207')\n",
      "View Pipeline Job:\n",
      "https://console.cloud.google.com/vertex-ai/locations/us-central1/pipelines/runs/rag-evaluation-pipeline-20240403045207?project=170650767387\n",
      "PipelineJob projects/170650767387/locations/us-central1/pipelineJobs/rag-evaluation-pipeline-20240403045207 current state:\n",
      "PipelineState.PIPELINE_STATE_RUNNING\n",
      "PipelineJob projects/170650767387/locations/us-central1/pipelineJobs/rag-evaluation-pipeline-20240403045207 current state:\n",
      "PipelineState.PIPELINE_STATE_RUNNING\n",
      "PipelineJob projects/170650767387/locations/us-central1/pipelineJobs/rag-evaluation-pipeline-20240403045207 current state:\n",
      "PipelineState.PIPELINE_STATE_RUNNING\n",
      "PipelineJob projects/170650767387/locations/us-central1/pipelineJobs/rag-evaluation-pipeline-20240403045207 current state:\n",
      "PipelineState.PIPELINE_STATE_RUNNING\n",
      "PipelineJob projects/170650767387/locations/us-central1/pipelineJobs/rag-evaluation-pipeline-20240403045207 current state:\n",
      "PipelineState.PIPELINE_STATE_RUNNING\n",
      "PipelineJob run completed. Resource name: projects/170650767387/locations/us-central1/pipelineJobs/rag-evaluation-pipeline-20240403045207\n"
     ]
    }
   ],
   "source": [
    "compiler.Compiler().compile(pipeline_func=rag_evaluation_pipeline, package_path='rag_evaluation_pipeline.json')\n",
    "\n",
    "pipeline_job = aiplatform.PipelineJob(\n",
    "    enable_caching=False,\n",
    "    display_name=\"rag_evaluation_pipeline\",\n",
    "    template_path=\"rag_evaluation_pipeline.json\",\n",
    "    pipeline_root=f\"gs://{bucket_name}/pipeline_root\",\n",
    "    parameter_values={\n",
    "        'bucket_name': bucket_name,\n",
    "        'input_file_path': 'test/input_file.json',\n",
    "        'output_file_path': 'test/output_file.json'\n",
    "    }\n",
    ")\n",
    "\n",
    "pipeline_job.run()\n"
   ]
  }
 ],
 "metadata": {
  "environment": {
   "kernel": "conda-root-py",
   "name": "workbench-notebooks.m118",
   "type": "gcloud",
   "uri": "us-docker.pkg.dev/deeplearning-platform-release/gcr.io/workbench-notebooks:m118"
  },
  "kernelspec": {
   "display_name": "Python 3 (ipykernel) (Local)",
   "language": "python",
   "name": "conda-root-py"
  },
  "language_info": {
   "codemirror_mode": {
    "name": "ipython",
    "version": 3
   },
   "file_extension": ".py",
   "mimetype": "text/x-python",
   "name": "python",
   "nbconvert_exporter": "python",
   "pygments_lexer": "ipython3",
   "version": "3.10.13"
  }
 },
 "nbformat": 4,
 "nbformat_minor": 5
}
